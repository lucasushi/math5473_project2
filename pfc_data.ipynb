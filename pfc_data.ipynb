{
 "cells": [
  {
   "cell_type": "markdown",
   "id": "3e113ad3-ac8b-4d54-986d-35489c5cc054",
   "metadata": {},
   "source": [
    "# Topological Methods for Visualization and Analysis of Human Prefrontal Cortex Development Data"
   ]
  },
  {
   "cell_type": "markdown",
   "id": "ee5caddd-fab3-4818-a371-fb5418a5f218",
   "metadata": {},
   "source": [
    "## Data Preprocessing\n",
    "\n",
    "**Note**: The original data is not in xls format, but a tab-delimited file."
   ]
  },
  {
   "cell_type": "code",
   "execution_count": 68,
   "id": "5c5ca536-f05f-45df-b1e0-b8c1c79f5ee8",
   "metadata": {
    "tags": []
   },
   "outputs": [],
   "source": [
    "import pandas as pd\n",
    "import numpy as np\n",
    "import math\n",
    "from matplotlib import pyplot as plt"
   ]
  },
  {
   "cell_type": "code",
   "execution_count": 49,
   "id": "b9b87c71-7b84-422c-8153-dcc334ebb4f3",
   "metadata": {
    "tags": []
   },
   "outputs": [],
   "source": [
    "df_npm = pd.read_csv('../data/GSE104276_all_pfc_2394_UMI_TPM_NOERCC.xls', sep='\\t')"
   ]
  },
  {
   "cell_type": "code",
   "execution_count": 50,
   "id": "a92a5d0a-f735-4297-bbc3-d75387fbbefe",
   "metadata": {
    "tags": []
   },
   "outputs": [
    {
     "data": {
      "text/plain": [
       "(24153, 2394)"
      ]
     },
     "execution_count": 50,
     "metadata": {},
     "output_type": "execute_result"
    }
   ],
   "source": [
    "df_npm.shape"
   ]
  },
  {
   "cell_type": "code",
   "execution_count": 54,
   "id": "4006669a-48a9-492c-99b1-c0cb9b7727e5",
   "metadata": {
    "tags": []
   },
   "outputs": [],
   "source": [
    "arg_lst = []\n",
    "for col in cols:\n",
    "    for i in col.split('_'):\n",
    "        if i not in arg_lst:\n",
    "            arg_lst.append(i)"
   ]
  },
  {
   "cell_type": "code",
   "execution_count": 55,
   "id": "cc89b669-1b7f-4294-8bd0-e699ff683127",
   "metadata": {
    "tags": []
   },
   "outputs": [],
   "source": [
    "gw_lst = []\n",
    "sc_lst = []\n",
    "for i in arg_lst:\n",
    "    if i.startswith('GW'):\n",
    "        gw_lst.append(i)\n",
    "    if i.startswith('sc'):\n",
    "        sc_lst.append(i)"
   ]
  },
  {
   "cell_type": "code",
   "execution_count": 56,
   "id": "242944a5-e922-4a0f-a937-cfa0454ce168",
   "metadata": {
    "tags": []
   },
   "outputs": [
    {
     "name": "stdout",
     "output_type": "stream",
     "text": [
      "['GW08', 'GW09', 'GW10', 'GW12', 'GW13', 'GW16', 'GW19', 'GW23', 'GW26']\n"
     ]
    }
   ],
   "source": [
    "gw_lst.sort()\n",
    "print(gw_lst)"
   ]
  },
  {
   "cell_type": "code",
   "execution_count": 57,
   "id": "b676af92-7329-4ef3-9236-2242392436fc",
   "metadata": {
    "tags": []
   },
   "outputs": [
    {
     "name": "stdout",
     "output_type": "stream",
     "text": [
      "['sc1', 'sc2', 'sc3', 'sc4', 'sc5', 'sc6', 'sc7', 'sc8', 'sc9', 'sc11', 'sc12', 'sc13', 'sc14', 'sc15', 'sc16', 'sc17', 'sc18', 'sc19', 'sc20', 'sc21', 'sc22', 'sc24', 'sc25', 'sc10', 'sc26', 'sc27', 'sc28', 'sc29', 'sc30', 'sc31', 'sc32', 'sc33', 'sc34', 'sc35', 'sc36', 'sc37', 'sc38', 'sc39', 'sc40', 'sc41', 'sc42', 'sc43', 'sc44', 'sc45', 'sc46', 'sc47', 'sc49', 'sc50', 'sc23', 'sc48', 'sc51', 'sc52', 'sc53', 'sc54', 'sc55', 'sc56', 'sc57', 'sc58', 'sc59', 'sc60', 'sc61', 'sc62', 'sc63', 'sc64', 'sc65', 'sc66', 'sc67', 'sc68', 'sc69', 'sc70', 'sc71', 'sc72', 'sc73', 'sc74', 'sc75', 'sc76', 'sc77', 'sc78', 'sc79', 'sc80', 'sc81', 'sc82', 'sc83', 'sc84', 'sc85', 'sc86', 'sc87', 'sc88', 'sc89', 'sc90', 'sc91', 'sc92', 'sc93', 'sc94', 'sc95', 'sc96', 'sc97', 'sc98', 'sc99', 'sc100', 'sc101', 'sc102', 'sc103', 'sc104', 'sc105', 'sc106', 'sc107', 'sc108', 'sc109', 'sc110', 'sc111', 'sc112', 'sc113', 'sc114', 'sc115', 'sc116', 'sc117', 'sc118', 'sc119', 'sc120', 'sc121', 'sc122', 'sc123', 'sc124', 'sc125', 'sc126', 'sc127', 'sc128', 'sc129', 'sc130', 'sc131', 'sc132', 'sc133', 'sc134', 'sc135', 'sc136', 'sc137', 'sc138', 'sc139', 'sc140', 'sc141', 'sc142', 'sc143']\n"
     ]
    }
   ],
   "source": [
    "print(sc_lst)"
   ]
  },
  {
   "cell_type": "code",
   "execution_count": 58,
   "id": "b0f90864-05cd-4d69-9e00-30536b7302f1",
   "metadata": {
    "tags": []
   },
   "outputs": [
    {
     "data": {
      "text/plain": [
       "143"
      ]
     },
     "execution_count": 58,
     "metadata": {},
     "output_type": "execute_result"
    }
   ],
   "source": [
    "len(sc_lst)"
   ]
  },
  {
   "cell_type": "code",
   "execution_count": 96,
   "id": "16748a3b-b65b-4238-b5f7-f0931e6889b1",
   "metadata": {
    "tags": []
   },
   "outputs": [
    {
     "name": "stdout",
     "output_type": "stream",
     "text": [
      "10342476\n",
      "(array([      0,   24735, 2961620, 3395367, 3518732,  434612,    7245,\n",
      "           165]), array([1.e-02, 1.e-01, 1.e+00, 1.e+01, 1.e+02, 1.e+03, 1.e+04, 1.e+05,\n",
      "       1.e+06]))\n",
      "max val: 345721.22;\n",
      "min val: 0.46\n"
     ]
    }
   ],
   "source": [
    "npm_vals = df_npm.values.flatten()\n",
    "npm_vals_alt = npm_vals[npm_vals != 0]\n",
    "print(len(npm_vals_alt))\n",
    "print(np.histogram(npm_vals_alt, bins=[0.01,0.1, 1,10,100,1000,10000,100000,1000000]))\n",
    "print(f\"max val: {npm_vals_alt.max()};\\nmin val: {npm_vals_alt.min()}\")"
   ]
  },
  {
   "cell_type": "code",
   "execution_count": 273,
   "id": "1425f615-e99a-42da-a12d-354f48ecf776",
   "metadata": {
    "tags": []
   },
   "outputs": [
    {
     "data": {
      "image/png": "[encoded data removed]",
      "text/plain": [
       "<Figure size 1000x1000 with 1 Axes>"
      ]
     },
     "metadata": {},
     "output_type": "display_data"
    }
   ],
   "source": [
    "fig = plt.figure(figsize=(10,10))\n",
    "plt.xscale('log')\n",
    "plt.yscale('log')\n",
    "plt.hist(npm_vals_alt, bins=[0.1, 1,10,100,1000,10000,100000,1000000], linewidth=5, edgecolor=\"white\")\n",
    "plt.title(\"TPM Value Distribution\")\n",
    "plt.show()"
   ]
  },
  {
   "cell_type": "markdown",
   "id": "b42e0851-706c-4a98-aacc-6643dd09a10d",
   "metadata": {},
   "source": [
    "## Data for First Clustering"
   ]
  },
  {
   "cell_type": "code",
   "execution_count": 167,
   "id": "be6add66-7185-43ca-b327-e833979b5569",
   "metadata": {
    "tags": []
   },
   "outputs": [],
   "source": [
    "df_npm_normal = df_npm.applymap(lambda x : math.log(x/10+1,10))"
   ]
  },
  {
   "cell_type": "code",
   "execution_count": 168,
   "id": "e9adfca1-b3d6-402d-a4eb-a1c78c2e538c",
   "metadata": {
    "tags": []
   },
   "outputs": [
    {
     "data": {
      "text/html": [
       "<div>\n",
       "<style scoped>\n",
       "    .dataframe tbody tr th:only-of-type {\n",
       "        vertical-align: middle;\n",
       "    }\n",
       "\n",
       "    .dataframe tbody tr th {\n",
       "        vertical-align: top;\n",
       "    }\n",
       "\n",
       "    .dataframe thead th {\n",
       "        text-align: right;\n",
       "    }\n",
       "</style>\n",
       "<table border=\"1\" class=\"dataframe\">\n",
       "  <thead>\n",
       "    <tr style=\"text-align: right;\">\n",
       "      <th></th>\n",
       "      <th>GW08_PFC1_sc1</th>\n",
       "      <th>GW08_PFC1_sc2</th>\n",
       "      <th>GW08_PFC1_sc3</th>\n",
       "      <th>GW08_PFC1_sc4</th>\n",
       "      <th>GW08_PFC1_sc5</th>\n",
       "      <th>GW08_PFC1_sc6</th>\n",
       "      <th>GW08_PFC1_sc7</th>\n",
       "      <th>GW08_PFC1_sc8</th>\n",
       "      <th>GW08_PFC1_sc9</th>\n",
       "      <th>GW08_PFC1_sc11</th>\n",
       "      <th>...</th>\n",
       "      <th>GW23_PFC2_SF2_F25_sc41</th>\n",
       "      <th>GW23_PFC2_SF2_F25_sc42</th>\n",
       "      <th>GW23_PFC2_SF2_F25_sc43</th>\n",
       "      <th>GW23_PFC2_SF2_F25_sc44</th>\n",
       "      <th>GW23_PFC2_SF2_F25_sc45</th>\n",
       "      <th>GW23_PFC2_SF2_F25_sc46</th>\n",
       "      <th>GW23_PFC2_SF2_F25_sc47</th>\n",
       "      <th>GW23_PFC2_SF2_F25_sc48</th>\n",
       "      <th>GW23_PFC2_SF2_F25_sc49</th>\n",
       "      <th>GW23_PFC2_SF2_F25_sc50</th>\n",
       "    </tr>\n",
       "  </thead>\n",
       "  <tbody>\n",
       "    <tr>\n",
       "      <th>A1BG</th>\n",
       "      <td>0.162564</td>\n",
       "      <td>0.0</td>\n",
       "      <td>0.000000</td>\n",
       "      <td>0.0</td>\n",
       "      <td>0.000000</td>\n",
       "      <td>0.000000</td>\n",
       "      <td>0.0</td>\n",
       "      <td>0.0</td>\n",
       "      <td>0.0</td>\n",
       "      <td>0.0</td>\n",
       "      <td>...</td>\n",
       "      <td>0.0</td>\n",
       "      <td>0.0</td>\n",
       "      <td>0.717421</td>\n",
       "      <td>0.0</td>\n",
       "      <td>0.000000</td>\n",
       "      <td>0.0</td>\n",
       "      <td>0.000000</td>\n",
       "      <td>0.000000</td>\n",
       "      <td>0.0</td>\n",
       "      <td>0.0</td>\n",
       "    </tr>\n",
       "    <tr>\n",
       "      <th>A1BG-AS1</th>\n",
       "      <td>0.000000</td>\n",
       "      <td>0.0</td>\n",
       "      <td>0.000000</td>\n",
       "      <td>0.0</td>\n",
       "      <td>0.000000</td>\n",
       "      <td>0.000000</td>\n",
       "      <td>0.0</td>\n",
       "      <td>0.0</td>\n",
       "      <td>0.0</td>\n",
       "      <td>0.0</td>\n",
       "      <td>...</td>\n",
       "      <td>0.0</td>\n",
       "      <td>0.0</td>\n",
       "      <td>0.000000</td>\n",
       "      <td>0.0</td>\n",
       "      <td>0.000000</td>\n",
       "      <td>0.0</td>\n",
       "      <td>0.000000</td>\n",
       "      <td>0.000000</td>\n",
       "      <td>0.0</td>\n",
       "      <td>0.0</td>\n",
       "    </tr>\n",
       "    <tr>\n",
       "      <th>A1CF</th>\n",
       "      <td>0.000000</td>\n",
       "      <td>0.0</td>\n",
       "      <td>0.000000</td>\n",
       "      <td>0.0</td>\n",
       "      <td>0.000000</td>\n",
       "      <td>0.000000</td>\n",
       "      <td>0.0</td>\n",
       "      <td>0.0</td>\n",
       "      <td>0.0</td>\n",
       "      <td>0.0</td>\n",
       "      <td>...</td>\n",
       "      <td>0.0</td>\n",
       "      <td>0.0</td>\n",
       "      <td>0.000000</td>\n",
       "      <td>0.0</td>\n",
       "      <td>0.000000</td>\n",
       "      <td>0.0</td>\n",
       "      <td>0.000000</td>\n",
       "      <td>0.000000</td>\n",
       "      <td>0.0</td>\n",
       "      <td>0.0</td>\n",
       "    </tr>\n",
       "    <tr>\n",
       "      <th>A2M</th>\n",
       "      <td>0.162564</td>\n",
       "      <td>0.0</td>\n",
       "      <td>0.275772</td>\n",
       "      <td>0.0</td>\n",
       "      <td>1.945803</td>\n",
       "      <td>2.010219</td>\n",
       "      <td>0.0</td>\n",
       "      <td>0.0</td>\n",
       "      <td>0.0</td>\n",
       "      <td>0.0</td>\n",
       "      <td>...</td>\n",
       "      <td>0.0</td>\n",
       "      <td>0.0</td>\n",
       "      <td>0.000000</td>\n",
       "      <td>0.0</td>\n",
       "      <td>0.297104</td>\n",
       "      <td>0.0</td>\n",
       "      <td>0.122216</td>\n",
       "      <td>0.100371</td>\n",
       "      <td>0.0</td>\n",
       "      <td>0.0</td>\n",
       "    </tr>\n",
       "    <tr>\n",
       "      <th>A2M-AS1</th>\n",
       "      <td>0.000000</td>\n",
       "      <td>0.0</td>\n",
       "      <td>0.000000</td>\n",
       "      <td>0.0</td>\n",
       "      <td>0.086004</td>\n",
       "      <td>0.000000</td>\n",
       "      <td>0.0</td>\n",
       "      <td>0.0</td>\n",
       "      <td>0.0</td>\n",
       "      <td>0.0</td>\n",
       "      <td>...</td>\n",
       "      <td>0.0</td>\n",
       "      <td>0.0</td>\n",
       "      <td>0.000000</td>\n",
       "      <td>0.0</td>\n",
       "      <td>0.000000</td>\n",
       "      <td>0.0</td>\n",
       "      <td>0.000000</td>\n",
       "      <td>0.000000</td>\n",
       "      <td>0.0</td>\n",
       "      <td>0.0</td>\n",
       "    </tr>\n",
       "  </tbody>\n",
       "</table>\n",
       "<p>5 rows × 2394 columns</p>\n",
       "</div>"
      ],
      "text/plain": [
       "          GW08_PFC1_sc1  GW08_PFC1_sc2  GW08_PFC1_sc3  GW08_PFC1_sc4   \n",
       "A1BG           0.162564            0.0       0.000000            0.0  \\\n",
       "A1BG-AS1       0.000000            0.0       0.000000            0.0   \n",
       "A1CF           0.000000            0.0       0.000000            0.0   \n",
       "A2M            0.162564            0.0       0.275772            0.0   \n",
       "A2M-AS1        0.000000            0.0       0.000000            0.0   \n",
       "\n",
       "          GW08_PFC1_sc5  GW08_PFC1_sc6  GW08_PFC1_sc7  GW08_PFC1_sc8   \n",
       "A1BG           0.000000       0.000000            0.0            0.0  \\\n",
       "A1BG-AS1       0.000000       0.000000            0.0            0.0   \n",
       "A1CF           0.000000       0.000000            0.0            0.0   \n",
       "A2M            1.945803       2.010219            0.0            0.0   \n",
       "A2M-AS1        0.086004       0.000000            0.0            0.0   \n",
       "\n",
       "          GW08_PFC1_sc9  GW08_PFC1_sc11  ...  GW23_PFC2_SF2_F25_sc41   \n",
       "A1BG                0.0             0.0  ...                     0.0  \\\n",
       "A1BG-AS1            0.0             0.0  ...                     0.0   \n",
       "A1CF                0.0             0.0  ...                     0.0   \n",
       "A2M                 0.0             0.0  ...                     0.0   \n",
       "A2M-AS1             0.0             0.0  ...                     0.0   \n",
       "\n",
       "          GW23_PFC2_SF2_F25_sc42  GW23_PFC2_SF2_F25_sc43   \n",
       "A1BG                         0.0                0.717421  \\\n",
       "A1BG-AS1                     0.0                0.000000   \n",
       "A1CF                         0.0                0.000000   \n",
       "A2M                          0.0                0.000000   \n",
       "A2M-AS1                      0.0                0.000000   \n",
       "\n",
       "          GW23_PFC2_SF2_F25_sc44  GW23_PFC2_SF2_F25_sc45   \n",
       "A1BG                         0.0                0.000000  \\\n",
       "A1BG-AS1                     0.0                0.000000   \n",
       "A1CF                         0.0                0.000000   \n",
       "A2M                          0.0                0.297104   \n",
       "A2M-AS1                      0.0                0.000000   \n",
       "\n",
       "          GW23_PFC2_SF2_F25_sc46  GW23_PFC2_SF2_F25_sc47   \n",
       "A1BG                         0.0                0.000000  \\\n",
       "A1BG-AS1                     0.0                0.000000   \n",
       "A1CF                         0.0                0.000000   \n",
       "A2M                          0.0                0.122216   \n",
       "A2M-AS1                      0.0                0.000000   \n",
       "\n",
       "          GW23_PFC2_SF2_F25_sc48  GW23_PFC2_SF2_F25_sc49   \n",
       "A1BG                    0.000000                     0.0  \\\n",
       "A1BG-AS1                0.000000                     0.0   \n",
       "A1CF                    0.000000                     0.0   \n",
       "A2M                     0.100371                     0.0   \n",
       "A2M-AS1                 0.000000                     0.0   \n",
       "\n",
       "          GW23_PFC2_SF2_F25_sc50  \n",
       "A1BG                         0.0  \n",
       "A1BG-AS1                     0.0  \n",
       "A1CF                         0.0  \n",
       "A2M                          0.0  \n",
       "A2M-AS1                      0.0  \n",
       "\n",
       "[5 rows x 2394 columns]"
      ]
     },
     "execution_count": 168,
     "metadata": {},
     "output_type": "execute_result"
    }
   ],
   "source": [
    "df_npm_normal.head()"
   ]
  },
  {
   "cell_type": "code",
   "execution_count": 169,
   "id": "6b6f7a41-bf35-414f-8389-fc9a27174cb0",
   "metadata": {
    "tags": []
   },
   "outputs": [
    {
     "name": "stdout",
     "output_type": "stream",
     "text": [
      "Min value: 0.0\n",
      "Max value: 4.538738598696364\n"
     ]
    }
   ],
   "source": [
    "print(f\"Min value: {df_npm_normal.values.min()}\")\n",
    "print(f\"Max value: {df_npm_normal.values.max()}\")"
   ]
  },
  {
   "cell_type": "code",
   "execution_count": 170,
   "id": "bfbb0de7-2060-4935-a705-ee17322fd2da",
   "metadata": {
    "tags": []
   },
   "outputs": [],
   "source": [
    "def filter_cells(df:pd.DataFrame) -> pd.DataFrame:\n",
    "    filter_cells = df[df!=0].count()>1000\n",
    "    qualified_cells = [i for i in filter_cells.index if filter_cells[i]]\n",
    "    return df[qualified_cells]\n",
    "\n",
    "def filter_genes(df:pd.DataFrame) -> pd.DataFrame:\n",
    "    filter_genes = df[df>1].count(axis=1)>=3\n",
    "    qualified_genes = [i for i in filter_genes.index if filter_genes[i]]\n",
    "    return df.loc[qualified_genes]"
   ]
  },
  {
   "cell_type": "code",
   "execution_count": 171,
   "id": "0fdc5378-9ea6-411e-91ac-a7385563b60c",
   "metadata": {
    "tags": []
   },
   "outputs": [],
   "source": [
    "df_npm_normal_qualified = filter_cells(filter_genes(filter_cells(filter_genes(df_npm_normal))))"
   ]
  },
  {
   "cell_type": "code",
   "execution_count": 172,
   "id": "ac734b09-8d3c-44a3-a0bd-7a1418b08b5f",
   "metadata": {
    "tags": []
   },
   "outputs": [
    {
     "data": {
      "text/plain": [
       "(16672, 2344)"
      ]
     },
     "execution_count": 172,
     "metadata": {},
     "output_type": "execute_result"
    }
   ],
   "source": [
    "df_npm_normal_qualified.shape"
   ]
  },
  {
   "cell_type": "code",
   "execution_count": 173,
   "id": "61527ad4-603f-471d-b0b2-2494e14bc732",
   "metadata": {
    "tags": []
   },
   "outputs": [],
   "source": [
    "df_npm_normal_qualified.to_csv('../data/data_filtered_for_first_clustering.csv')"
   ]
  },
  {
   "cell_type": "markdown",
   "id": "660fc9b9-87d2-4f99-bc9f-16db6c3e7580",
   "metadata": {},
   "source": [
    "## Data Labeling"
   ]
  },
  {
   "cell_type": "code",
   "execution_count": 174,
   "id": "15056c01-bd2d-4348-8df5-7c9840cc0d85",
   "metadata": {
    "tags": []
   },
   "outputs": [],
   "source": [
    "label_dict = {\n",
    "    \"PAX6\": \"npcs\",\n",
    "    \"NEUROD2\": \"excitatory\",\n",
    "    \"GAD1\": \"inter\",\n",
    "    \"PDGFRA\": \"opcs\",\n",
    "    \"AQP4\": \"astrocytes\",\n",
    "    \"PTPRC\": \"microglia\",\n",
    "}"
   ]
  },
  {
   "cell_type": "code",
   "execution_count": 191,
   "id": "12294781-9e7e-44ef-b18c-e695a0038c9e",
   "metadata": {
    "tags": []
   },
   "outputs": [],
   "source": [
    "df_label = df_npm_normal_qualified.loc[list(label_dict.keys())]"
   ]
  },
  {
   "cell_type": "code",
   "execution_count": 209,
   "id": "0e482b03-0640-4a39-b76b-c83fe1999ecd",
   "metadata": {
    "tags": []
   },
   "outputs": [
    {
     "data": {
      "text/html": [
       "<div>\n",
       "<style scoped>\n",
       "    .dataframe tbody tr th:only-of-type {\n",
       "        vertical-align: middle;\n",
       "    }\n",
       "\n",
       "    .dataframe tbody tr th {\n",
       "        vertical-align: top;\n",
       "    }\n",
       "\n",
       "    .dataframe thead th {\n",
       "        text-align: right;\n",
       "    }\n",
       "</style>\n",
       "<table border=\"1\" class=\"dataframe\">\n",
       "  <thead>\n",
       "    <tr style=\"text-align: right;\">\n",
       "      <th></th>\n",
       "      <th>GW08_PFC1_sc1</th>\n",
       "      <th>GW08_PFC1_sc2</th>\n",
       "      <th>GW08_PFC1_sc3</th>\n",
       "      <th>GW08_PFC1_sc4</th>\n",
       "      <th>GW08_PFC1_sc5</th>\n",
       "      <th>GW08_PFC1_sc6</th>\n",
       "      <th>GW08_PFC1_sc7</th>\n",
       "      <th>GW08_PFC1_sc8</th>\n",
       "      <th>GW08_PFC1_sc9</th>\n",
       "      <th>GW08_PFC1_sc11</th>\n",
       "      <th>...</th>\n",
       "      <th>GW23_PFC2_SF2_F25_sc41</th>\n",
       "      <th>GW23_PFC2_SF2_F25_sc42</th>\n",
       "      <th>GW23_PFC2_SF2_F25_sc43</th>\n",
       "      <th>GW23_PFC2_SF2_F25_sc44</th>\n",
       "      <th>GW23_PFC2_SF2_F25_sc45</th>\n",
       "      <th>GW23_PFC2_SF2_F25_sc46</th>\n",
       "      <th>GW23_PFC2_SF2_F25_sc47</th>\n",
       "      <th>GW23_PFC2_SF2_F25_sc48</th>\n",
       "      <th>GW23_PFC2_SF2_F25_sc49</th>\n",
       "      <th>GW23_PFC2_SF2_F25_sc50</th>\n",
       "    </tr>\n",
       "  </thead>\n",
       "  <tbody>\n",
       "    <tr>\n",
       "      <th>npcs</th>\n",
       "      <td>0.940417</td>\n",
       "      <td>0.568905</td>\n",
       "      <td>1.066326</td>\n",
       "      <td>0.000000</td>\n",
       "      <td>0.000000</td>\n",
       "      <td>0.122871</td>\n",
       "      <td>1.529315</td>\n",
       "      <td>1.268882</td>\n",
       "      <td>0.000000</td>\n",
       "      <td>1.178459</td>\n",
       "      <td>...</td>\n",
       "      <td>1.679528</td>\n",
       "      <td>0.000000</td>\n",
       "      <td>0.000000</td>\n",
       "      <td>0.0</td>\n",
       "      <td>0.000000</td>\n",
       "      <td>0.000000</td>\n",
       "      <td>0.000000</td>\n",
       "      <td>0.712734</td>\n",
       "      <td>0.198932</td>\n",
       "      <td>0.000000</td>\n",
       "    </tr>\n",
       "    <tr>\n",
       "      <th>excitatory</th>\n",
       "      <td>0.620968</td>\n",
       "      <td>2.027533</td>\n",
       "      <td>1.761920</td>\n",
       "      <td>0.260548</td>\n",
       "      <td>0.000000</td>\n",
       "      <td>0.122871</td>\n",
       "      <td>0.159567</td>\n",
       "      <td>1.173536</td>\n",
       "      <td>1.784874</td>\n",
       "      <td>0.000000</td>\n",
       "      <td>...</td>\n",
       "      <td>1.816394</td>\n",
       "      <td>0.000000</td>\n",
       "      <td>0.429268</td>\n",
       "      <td>0.0</td>\n",
       "      <td>0.297104</td>\n",
       "      <td>0.000000</td>\n",
       "      <td>0.000000</td>\n",
       "      <td>1.199289</td>\n",
       "      <td>0.438067</td>\n",
       "      <td>0.182700</td>\n",
       "    </tr>\n",
       "    <tr>\n",
       "      <th>inter</th>\n",
       "      <td>0.000000</td>\n",
       "      <td>1.741356</td>\n",
       "      <td>0.275772</td>\n",
       "      <td>0.000000</td>\n",
       "      <td>0.219060</td>\n",
       "      <td>0.000000</td>\n",
       "      <td>0.000000</td>\n",
       "      <td>0.000000</td>\n",
       "      <td>0.000000</td>\n",
       "      <td>0.357935</td>\n",
       "      <td>...</td>\n",
       "      <td>0.000000</td>\n",
       "      <td>2.014029</td>\n",
       "      <td>1.484528</td>\n",
       "      <td>0.0</td>\n",
       "      <td>2.382926</td>\n",
       "      <td>2.142812</td>\n",
       "      <td>0.217747</td>\n",
       "      <td>0.100371</td>\n",
       "      <td>2.028124</td>\n",
       "      <td>1.662418</td>\n",
       "    </tr>\n",
       "    <tr>\n",
       "      <th>opcs</th>\n",
       "      <td>0.620968</td>\n",
       "      <td>0.000000</td>\n",
       "      <td>0.000000</td>\n",
       "      <td>0.000000</td>\n",
       "      <td>0.000000</td>\n",
       "      <td>0.000000</td>\n",
       "      <td>0.000000</td>\n",
       "      <td>0.000000</td>\n",
       "      <td>0.000000</td>\n",
       "      <td>0.000000</td>\n",
       "      <td>...</td>\n",
       "      <td>0.355068</td>\n",
       "      <td>0.000000</td>\n",
       "      <td>0.000000</td>\n",
       "      <td>0.0</td>\n",
       "      <td>0.000000</td>\n",
       "      <td>0.000000</td>\n",
       "      <td>0.718502</td>\n",
       "      <td>0.000000</td>\n",
       "      <td>0.000000</td>\n",
       "      <td>0.000000</td>\n",
       "    </tr>\n",
       "    <tr>\n",
       "      <th>astrocytes</th>\n",
       "      <td>0.000000</td>\n",
       "      <td>0.000000</td>\n",
       "      <td>0.000000</td>\n",
       "      <td>0.000000</td>\n",
       "      <td>0.000000</td>\n",
       "      <td>0.000000</td>\n",
       "      <td>0.000000</td>\n",
       "      <td>0.000000</td>\n",
       "      <td>0.000000</td>\n",
       "      <td>0.000000</td>\n",
       "      <td>...</td>\n",
       "      <td>0.000000</td>\n",
       "      <td>0.312600</td>\n",
       "      <td>0.000000</td>\n",
       "      <td>0.0</td>\n",
       "      <td>0.000000</td>\n",
       "      <td>0.000000</td>\n",
       "      <td>0.000000</td>\n",
       "      <td>0.000000</td>\n",
       "      <td>0.000000</td>\n",
       "      <td>0.000000</td>\n",
       "    </tr>\n",
       "    <tr>\n",
       "      <th>microglia</th>\n",
       "      <td>0.000000</td>\n",
       "      <td>0.000000</td>\n",
       "      <td>0.000000</td>\n",
       "      <td>0.000000</td>\n",
       "      <td>1.350907</td>\n",
       "      <td>1.327890</td>\n",
       "      <td>0.000000</td>\n",
       "      <td>0.000000</td>\n",
       "      <td>0.000000</td>\n",
       "      <td>0.000000</td>\n",
       "      <td>...</td>\n",
       "      <td>0.000000</td>\n",
       "      <td>0.000000</td>\n",
       "      <td>0.000000</td>\n",
       "      <td>0.0</td>\n",
       "      <td>0.000000</td>\n",
       "      <td>0.000000</td>\n",
       "      <td>0.000000</td>\n",
       "      <td>0.100371</td>\n",
       "      <td>0.000000</td>\n",
       "      <td>0.000000</td>\n",
       "    </tr>\n",
       "  </tbody>\n",
       "</table>\n",
       "<p>6 rows × 2344 columns</p>\n",
       "</div>"
      ],
      "text/plain": [
       "            GW08_PFC1_sc1  GW08_PFC1_sc2  GW08_PFC1_sc3  GW08_PFC1_sc4   \n",
       "npcs             0.940417       0.568905       1.066326       0.000000  \\\n",
       "excitatory       0.620968       2.027533       1.761920       0.260548   \n",
       "inter            0.000000       1.741356       0.275772       0.000000   \n",
       "opcs             0.620968       0.000000       0.000000       0.000000   \n",
       "astrocytes       0.000000       0.000000       0.000000       0.000000   \n",
       "microglia        0.000000       0.000000       0.000000       0.000000   \n",
       "\n",
       "            GW08_PFC1_sc5  GW08_PFC1_sc6  GW08_PFC1_sc7  GW08_PFC1_sc8   \n",
       "npcs             0.000000       0.122871       1.529315       1.268882  \\\n",
       "excitatory       0.000000       0.122871       0.159567       1.173536   \n",
       "inter            0.219060       0.000000       0.000000       0.000000   \n",
       "opcs             0.000000       0.000000       0.000000       0.000000   \n",
       "astrocytes       0.000000       0.000000       0.000000       0.000000   \n",
       "microglia        1.350907       1.327890       0.000000       0.000000   \n",
       "\n",
       "            GW08_PFC1_sc9  GW08_PFC1_sc11  ...  GW23_PFC2_SF2_F25_sc41   \n",
       "npcs             0.000000        1.178459  ...                1.679528  \\\n",
       "excitatory       1.784874        0.000000  ...                1.816394   \n",
       "inter            0.000000        0.357935  ...                0.000000   \n",
       "opcs             0.000000        0.000000  ...                0.355068   \n",
       "astrocytes       0.000000        0.000000  ...                0.000000   \n",
       "microglia        0.000000        0.000000  ...                0.000000   \n",
       "\n",
       "            GW23_PFC2_SF2_F25_sc42  GW23_PFC2_SF2_F25_sc43   \n",
       "npcs                      0.000000                0.000000  \\\n",
       "excitatory                0.000000                0.429268   \n",
       "inter                     2.014029                1.484528   \n",
       "opcs                      0.000000                0.000000   \n",
       "astrocytes                0.312600                0.000000   \n",
       "microglia                 0.000000                0.000000   \n",
       "\n",
       "            GW23_PFC2_SF2_F25_sc44  GW23_PFC2_SF2_F25_sc45   \n",
       "npcs                           0.0                0.000000  \\\n",
       "excitatory                     0.0                0.297104   \n",
       "inter                          0.0                2.382926   \n",
       "opcs                           0.0                0.000000   \n",
       "astrocytes                     0.0                0.000000   \n",
       "microglia                      0.0                0.000000   \n",
       "\n",
       "            GW23_PFC2_SF2_F25_sc46  GW23_PFC2_SF2_F25_sc47   \n",
       "npcs                      0.000000                0.000000  \\\n",
       "excitatory                0.000000                0.000000   \n",
       "inter                     2.142812                0.217747   \n",
       "opcs                      0.000000                0.718502   \n",
       "astrocytes                0.000000                0.000000   \n",
       "microglia                 0.000000                0.000000   \n",
       "\n",
       "            GW23_PFC2_SF2_F25_sc48  GW23_PFC2_SF2_F25_sc49   \n",
       "npcs                      0.712734                0.198932  \\\n",
       "excitatory                1.199289                0.438067   \n",
       "inter                     0.100371                2.028124   \n",
       "opcs                      0.000000                0.000000   \n",
       "astrocytes                0.000000                0.000000   \n",
       "microglia                 0.100371                0.000000   \n",
       "\n",
       "            GW23_PFC2_SF2_F25_sc50  \n",
       "npcs                      0.000000  \n",
       "excitatory                0.182700  \n",
       "inter                     1.662418  \n",
       "opcs                      0.000000  \n",
       "astrocytes                0.000000  \n",
       "microglia                 0.000000  \n",
       "\n",
       "[6 rows x 2344 columns]"
      ]
     },
     "execution_count": 209,
     "metadata": {},
     "output_type": "execute_result"
    }
   ],
   "source": [
    "df_label.index = list(label_dict.values())\n",
    "df_label"
   ]
  },
  {
   "cell_type": "code",
   "execution_count": 210,
   "id": "bc90a97c-b50f-4547-b3df-0dc9aa2eded5",
   "metadata": {
    "tags": []
   },
   "outputs": [],
   "source": [
    "# label 1, robust, if tpm_norm > 0, mark as true\n",
    "df_label1 = df_label>0\n",
    "df_label1 = df_label1.astype(int)\n",
    "df_label1.to_csv('../data/data_label_1.csv')"
   ]
  },
  {
   "cell_type": "code",
   "execution_count": 224,
   "id": "31c01fb2-1485-4f68-8d7f-c33df470f201",
   "metadata": {
    "tags": []
   },
   "outputs": [],
   "source": [
    "# label 2, largest tpm, 1 type or no type\n",
    "df_no_label = df_label.max()==0\n",
    "no_label_cells = df_no_label[df_no_label].index\n",
    "df_label2 = df_label.idxmax()\n",
    "df_label2[no_label_cells] = 'unclear'\n",
    "df_label2.name = 'type'\n",
    "df_label2.to_csv('../data/data_label_2.csv')"
   ]
  },
  {
   "cell_type": "code",
   "execution_count": 266,
   "id": "abe112c1-399b-44aa-8feb-8045519e251b",
   "metadata": {
    "tags": []
   },
   "outputs": [
    {
     "data": {
      "text/plain": [
       "type\n",
       "excitatory    1259\n",
       "npcs           390\n",
       "inter          360\n",
       "opcs           129\n",
       "unclear        106\n",
       "microglia       58\n",
       "astrocytes      42\n",
       "Name: count, dtype: int64"
      ]
     },
     "execution_count": 266,
     "metadata": {},
     "output_type": "execute_result"
    }
   ],
   "source": [
    "df_label2.value_counts()"
   ]
  },
  {
   "cell_type": "code",
   "execution_count": 272,
   "id": "66b3fcf5-8297-476b-b537-9df3d5c02176",
   "metadata": {
    "tags": []
   },
   "outputs": [
    {
     "data": {
      "text/plain": [
       "<Axes: title={'center': 'Data Label Distribution'}, xlabel='type'>"
      ]
     },
     "execution_count": 272,
     "metadata": {},
     "output_type": "execute_result"
    },
    {
     "data": {
      "image/png": "[encoded data removed]",
      "text/plain": [
       "<Figure size 1000x1000 with 1 Axes>"
      ]
     },
     "metadata": {},
     "output_type": "display_data"
    }
   ],
   "source": [
    "df_label2.value_counts().plot.bar(figsize=(10,10), title='Data Label Distribution')"
   ]
  },
  {
   "cell_type": "markdown",
   "id": "b2d8f710-c802-4581-be07-13d1e4502727",
   "metadata": {},
   "source": [
    "## Data for Second Clustering"
   ]
  },
  {
   "cell_type": "code",
   "execution_count": 230,
   "id": "e2565b3c-a49b-4db9-942f-69882a5fd12a",
   "metadata": {
    "tags": []
   },
   "outputs": [
    {
     "data": {
      "text/plain": [
       "(16672, 2344)"
      ]
     },
     "execution_count": 230,
     "metadata": {},
     "output_type": "execute_result"
    }
   ],
   "source": [
    "df_data_2 = df_npm_normal_qualified.copy(deep=True)\n",
    "df_data_2.shape"
   ]
  },
  {
   "cell_type": "code",
   "execution_count": 231,
   "id": "d91070e6-43ab-4968-86b3-e6f3ebf4ae2a",
   "metadata": {
    "tags": []
   },
   "outputs": [],
   "source": [
    "rmv_genes = [\"PTPRC\", \"CSF1R\", \"AIF1\"]\n",
    "haemoglobin_genes = [\"HBA1\", \"HBA2\", \"HBB\", \"HBD\", \"HBE1\", \"HBG1\", \"HBG2\", \"HBM\", \"HBQ1\", \"HBZ\"]"
   ]
  },
  {
   "cell_type": "code",
   "execution_count": 232,
   "id": "b38645d0-7fe8-4ffc-890e-7e9fa9e962a3",
   "metadata": {
    "tags": []
   },
   "outputs": [
    {
     "data": {
      "text/plain": [
       "(16669, 2344)"
      ]
     },
     "execution_count": 232,
     "metadata": {},
     "output_type": "execute_result"
    }
   ],
   "source": [
    "df_data_2 = df_data_2.drop(rmv_genes)\n",
    "df_data_2.shape"
   ]
  },
  {
   "cell_type": "code",
   "execution_count": 257,
   "id": "9dd0fd69-5b58-4f8b-a046-018126deb1e2",
   "metadata": {
    "tags": []
   },
   "outputs": [],
   "source": [
    "df_haemoglobin = (df_data_2.loc[haemoglobin_genes]>1).astype(int).sum()>5\n",
    "rmv_cells = df_haemoglobin[df_haemoglobin].index"
   ]
  },
  {
   "cell_type": "code",
   "execution_count": 259,
   "id": "a03980dc-6c4b-4b4c-abc0-d25d8d77d00d",
   "metadata": {
    "tags": []
   },
   "outputs": [
    {
     "data": {
      "text/plain": [
       "(16669, 2209)"
      ]
     },
     "execution_count": 259,
     "metadata": {},
     "output_type": "execute_result"
    }
   ],
   "source": [
    "df_data_2 = df_data_2.drop(rmv_cells, axis=1)\n",
    "df_data_2.shape"
   ]
  },
  {
   "cell_type": "code",
   "execution_count": 260,
   "id": "06f27201-f9c8-4b60-b483-cd74ff274d7a",
   "metadata": {
    "tags": []
   },
   "outputs": [],
   "source": [
    "df_data_2 = df_data_2.drop(haemoglobin_genes)\n",
    "df_data_2.to_csv('../data/data_filtered_for_second_clustering.csv')"
   ]
  },
  {
   "cell_type": "code",
   "execution_count": 274,
   "id": "2992bb8e-d1de-4580-bfe4-57198b8c436f",
   "metadata": {
    "tags": []
   },
   "outputs": [
    {
     "data": {
      "text/plain": [
       "(16659, 2209)"
      ]
     },
     "execution_count": 274,
     "metadata": {},
     "output_type": "execute_result"
    }
   ],
   "source": [
    "df_data_2.shape"
   ]
  },
  {
   "cell_type": "markdown",
   "id": "01a1c2dc-d3a4-4b07-84a0-fcfa5f9a94f0",
   "metadata": {},
   "source": [
    "## Subtype Data for Random Forest"
   ]
  },
  {
   "cell_type": "code",
   "execution_count": 292,
   "id": "70fbbc95-248b-4f51-9eb8-1ef5c441d6f8",
   "metadata": {
    "tags": []
   },
   "outputs": [],
   "source": [
    "df_data_3 = df_data_2.loc[list((df_data_2>0).astype(int).sum(axis=1).sort_values(ascending=False).iloc[:1000].index)]"
   ]
  },
  {
   "cell_type": "code",
   "execution_count": 293,
   "id": "209b5cd8-ed48-496b-8854-938d8250bba9",
   "metadata": {
    "tags": []
   },
   "outputs": [],
   "source": [
    "df_data_3.to_csv('../data/data_filtered_for_subtype_clustering.csv')"
   ]
  }
 ],
 "metadata": {
  "kernelspec": {
   "display_name": "Python 3 (ipykernel)",
   "language": "python",
   "name": "python3"
  },
  "language_info": {
   "codemirror_mode": {
    "name": "ipython",
    "version": 3
   },
   "file_extension": ".py",
   "mimetype": "text/x-python",
   "name": "python",
   "nbconvert_exporter": "python",
   "pygments_lexer": "ipython3",
   "version": "3.10.9"
  }
 },
 "nbformat": 4,
 "nbformat_minor": 5
}
